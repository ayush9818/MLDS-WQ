{
 "cells": [
  {
   "cell_type": "markdown",
   "metadata": {},
   "source": [
    "# Sports Bayes Net"
   ]
  },
  {
   "cell_type": "code",
   "execution_count": 1,
   "metadata": {},
   "outputs": [],
   "source": [
    "import pylab as plt\n",
    "from pgmpy.factors.discrete.CPD import TabularCPD\n",
    "from pgmpy.models import BayesianNetwork"
   ]
  },
  {
   "cell_type": "markdown",
   "metadata": {},
   "source": [
    "## A - Set up the model\n",
    "\n",
    "### 1. Set the structure"
   ]
  },
  {
   "cell_type": "code",
   "execution_count": 2,
   "metadata": {},
   "outputs": [],
   "source": [
    "model = BayesianNetwork([('Genetics', 'Performance'),\n",
    "                             ('Practice', 'Performance'),\n",
    "                             ('Performance', 'Offer')])"
   ]
  },
  {
   "cell_type": "markdown",
   "metadata": {},
   "source": [
    "###  2.Set up the relationships (the CPDs)"
   ]
  },
  {
   "cell_type": "code",
   "execution_count": 3,
   "metadata": {},
   "outputs": [],
   "source": [
    "genetics_cpd = TabularCPD(\n",
    "                variable = 'Genetics',\n",
    "                variable_card = 2,\n",
    "                values = [[.2],[.8]])"
   ]
  },
  {
   "cell_type": "code",
   "execution_count": 4,
   "metadata": {},
   "outputs": [],
   "source": [
    "practice_cpd = TabularCPD(\n",
    "                variable = 'Practice',\n",
    "                variable_card = 2,\n",
    "                values = [[.7],[.3]])"
   ]
  },
  {
   "cell_type": "code",
   "execution_count": 5,
   "metadata": {},
   "outputs": [],
   "source": [
    "offer_cpd = TabularCPD(\n",
    "                    variable = 'Offer',\n",
    "                    variable_card = 2,\n",
    "                    values = [[.95, .8, .5],\n",
    "                             [.05, .2, .5]],\n",
    "                    evidence = ['Performance'],\n",
    "                    evidence_card = [3])"
   ]
  },
  {
   "cell_type": "code",
   "execution_count": 6,
   "metadata": {},
   "outputs": [],
   "source": [
    "olympic_trials_cpd = TabularCPD(\n",
    "                        variable = 'Performance', \n",
    "                        variable_card = 3,\n",
    "                        values = [[.5, .8, .8, .9],\n",
    "                                 [.3, .15, .1, .08],\n",
    "                                 [.2, .05, .1, .02]],\n",
    "                        evidence = ['Genetics', 'Practice'],\n",
    "                        evidence_card = [2,2])"
   ]
  },
  {
   "cell_type": "markdown",
   "metadata": {},
   "source": [
    "### 3. Add relationships to the model"
   ]
  },
  {
   "cell_type": "code",
   "execution_count": 7,
   "metadata": {},
   "outputs": [],
   "source": [
    "model.add_cpds (genetics_cpd, practice_cpd, offer_cpd, olympic_trials_cpd)"
   ]
  },
  {
   "cell_type": "markdown",
   "metadata": {},
   "source": [
    "### 4. Examine the structure of your graph"
   ]
  },
  {
   "cell_type": "code",
   "execution_count": null,
   "metadata": {},
   "outputs": [],
   "source": []
  },
  {
   "cell_type": "markdown",
   "metadata": {},
   "source": [
    "### 5. Find active trail nodes"
   ]
  },
  {
   "cell_type": "code",
   "execution_count": null,
   "metadata": {},
   "outputs": [],
   "source": []
  },
  {
   "cell_type": "markdown",
   "metadata": {},
   "source": [
    "### 6. Find local independencies"
   ]
  },
  {
   "cell_type": "code",
   "execution_count": null,
   "metadata": {},
   "outputs": [],
   "source": []
  },
  {
   "cell_type": "markdown",
   "metadata": {},
   "source": [
    "### 7. Get all independencies"
   ]
  },
  {
   "cell_type": "code",
   "execution_count": null,
   "metadata": {},
   "outputs": [],
   "source": []
  },
  {
   "cell_type": "markdown",
   "metadata": {},
   "source": [
    "## B - Making inferences"
   ]
  },
  {
   "cell_type": "markdown",
   "metadata": {},
   "source": [
    "### 1. Get probability distributions that are not explicitly spelled out in our graphs"
   ]
  },
  {
   "cell_type": "code",
   "execution_count": null,
   "metadata": {},
   "outputs": [],
   "source": [
    "from pgmpy.inference import VariableElimination"
   ]
  },
  {
   "cell_type": "code",
   "execution_count": null,
   "metadata": {},
   "outputs": [],
   "source": [
    "infer = VariableElimination(model)"
   ]
  },
  {
   "cell_type": "code",
   "execution_count": null,
   "metadata": {},
   "outputs": [],
   "source": [
    "#prob_offer = \n",
    "#print(prob_offer)"
   ]
  },
  {
   "cell_type": "markdown",
   "metadata": {},
   "source": [
    "### 2. Get conditional probability distributions that take into account what we already know\n",
    "\n",
    "## Probability Queries\n"
   ]
  },
  {
   "cell_type": "code",
   "execution_count": null,
   "metadata": {},
   "outputs": [],
   "source": [
    "#prob_offer_good_genes = \n",
    "#print(prob_offer_good_genes)"
   ]
  },
  {
   "cell_type": "code",
   "execution_count": null,
   "metadata": {},
   "outputs": [],
   "source": [
    "#prob_offer_bad_genes =\n",
    "#print(prob_offer_bad_genes)"
   ]
  },
  {
   "cell_type": "code",
   "execution_count": null,
   "metadata": {},
   "outputs": [],
   "source": [
    "#prob_offer_good_genes_did_practice \n",
    "#print(prob_offer_good_genes_did_practice)"
   ]
  },
  {
   "cell_type": "code",
   "execution_count": null,
   "metadata": {},
   "outputs": [],
   "source": [
    "#prob_offer_good_genes_no_practice = \n",
    "#print(prob_offer_good_genes_no_practice)"
   ]
  },
  {
   "cell_type": "markdown",
   "metadata": {},
   "source": [
    "### 3. Go upstream logically.\n",
    "\n",
    "#### For example, evidence about performance at the Olympic Trials affects the probabilities of Genetics."
   ]
  },
  {
   "cell_type": "code",
   "execution_count": null,
   "metadata": {},
   "outputs": [],
   "source": [
    "#prob_good_genes_if_amazing_olympic_trials = \n",
    "#print(prob_good_genes_if_amazing_olympic_trials)"
   ]
  },
  {
   "cell_type": "markdown",
   "metadata": {},
   "source": [
    "### Some variables are only informative about other variables given 'third' variables"
   ]
  },
  {
   "cell_type": "code",
   "execution_count": null,
   "metadata": {},
   "outputs": [],
   "source": [
    "# Practice does not inherently tell us something about Genetics\n",
    "#prob_good_genes_if_no_practice \n",
    "#print(prob_good_genes_if_no_practice)"
   ]
  },
  {
   "cell_type": "code",
   "execution_count": null,
   "metadata": {},
   "outputs": [],
   "source": [
    "# BUT Practice does tell us something about genetics IF we also \n",
    "# know something about olympic trials performance\n",
    "\n",
    "#prob_good_genes_if_no_practice_good_olympic_trials = \n",
    "#print(prob_good_genes_if_no_practice_good_olympic_trials)"
   ]
  },
  {
   "cell_type": "markdown",
   "metadata": {},
   "source": [
    "## Map Queries\n",
    "\n",
    "1) Find the most probable state for Genetics\n",
    "\n",
    "2) Find the most probable state for Offer and Performance\n"
   ]
  }
 ],
 "metadata": {
  "kernelspec": {
   "display_name": "Python 3 (ipykernel)",
   "language": "python",
   "name": "python3"
  },
  "language_info": {
   "codemirror_mode": {
    "name": "ipython",
    "version": 3
   },
   "file_extension": ".py",
   "mimetype": "text/x-python",
   "name": "python",
   "nbconvert_exporter": "python",
   "pygments_lexer": "ipython3",
   "version": "3.11.6"
  },
  "widgets": {
   "state": {},
   "version": "1.1.1"
  }
 },
 "nbformat": 4,
 "nbformat_minor": 4
}
