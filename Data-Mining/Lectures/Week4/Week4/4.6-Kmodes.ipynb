{
 "cells": [
  {
   "cell_type": "markdown",
   "id": "4cb23a43",
   "metadata": {},
   "source": [
    "# K-Modes\n",
    "\n",
    "### Clustering Categorical Data"
   ]
  },
  {
   "cell_type": "code",
   "execution_count": 1,
   "id": "7a988dad",
   "metadata": {},
   "outputs": [],
   "source": [
    "#!pip install kmodes"
   ]
  },
  {
   "cell_type": "code",
   "execution_count": 2,
   "id": "1e92edc1",
   "metadata": {},
   "outputs": [],
   "source": [
    "import os\n",
    "os.environ[\"OMP_NUM_THREADS\"] = '1'"
   ]
  },
  {
   "cell_type": "code",
   "execution_count": 3,
   "id": "f5ac5e9f",
   "metadata": {},
   "outputs": [],
   "source": [
    "import numpy as np\n",
    "import pandas as pd\n",
    "import matplotlib.pyplot as plt\n",
    "import seaborn as sns\n",
    "from kmodes.kmodes import KModes\n",
    "from sklearn import datasets, metrics\n",
    "from sklearn.datasets import make_blobs\n",
    "from sklearn.metrics import adjusted_rand_score"
   ]
  },
  {
   "cell_type": "markdown",
   "id": "66130427-3e7a-4fc2-94b3-668af46ba419",
   "metadata": {},
   "source": [
    "### Generated Data"
   ]
  },
  {
   "cell_type": "code",
   "execution_count": 4,
   "id": "04221d27-4598-4ecb-87c4-48cfaecfe293",
   "metadata": {},
   "outputs": [
    {
     "name": "stdout",
     "output_type": "stream",
     "text": [
      "Init: initializing centroids\n",
      "Init: initializing clusters\n",
      "Starting iterations...\n",
      "Run 1, iteration: 1/100, moves: 8, cost: 539.0\n",
      "Init: initializing centroids\n",
      "Init: initializing clusters\n",
      "Starting iterations...\n",
      "Run 2, iteration: 1/100, moves: 12, cost: 533.0\n",
      "Init: initializing centroids\n",
      "Init: initializing clusters\n",
      "Starting iterations...\n",
      "Run 3, iteration: 1/100, moves: 27, cost: 535.0\n",
      "Run 3, iteration: 2/100, moves: 4, cost: 535.0\n",
      "Init: initializing centroids\n",
      "Init: initializing clusters\n",
      "Starting iterations...\n",
      "Run 4, iteration: 1/100, moves: 27, cost: 526.0\n",
      "Init: initializing centroids\n",
      "Init: initializing clusters\n",
      "Starting iterations...\n",
      "Run 5, iteration: 1/100, moves: 23, cost: 532.0\n",
      "Best run was number 4\n",
      "Cluster Centroids:\n",
      "[[ -8.90476978  -8.74737479 -11.03639446   0.5484215    1.\n",
      "    2.           4.        ]\n",
      " [ -8.0799236   -8.12584837 -12.0795951    0.50965474   2.\n",
      "    4.           2.        ]\n",
      " [ -7.76348463  -8.39495682 -10.65593054  -0.01439923   3.\n",
      "    1.           1.        ]]\n",
      "\n",
      "Cluster Labels:\n",
      "[0 0 0 2 0 1 1 0 1 0 1 2 2 2 1 1 1 0 0 0 0 2 1 1 1 1 2 0 0 1 0 1 0 0 0 1 0\n",
      " 1 2 0 0 2 0 0 2 0 0 0 1 0 0 1 1 1 1 0 0 2 1 1 1 1 2 0 1 0 1 0 1 0 0 1 1 2\n",
      " 2 1 0 1 1 1 2 0 1 0 0 0 0 1 0 1 1 1 0 1 0 0 0 1 0 0]\n"
     ]
    }
   ],
   "source": [
    "# Generate synthetic categorical data\n",
    "data, _ = make_blobs(n_samples=100, n_features=4, centers=3, cluster_std=1, random_state=42)\n",
    "categorical_data = np.random.randint(1, 5, size=(100, 3))  # Three categorical features\n",
    "\n",
    "# Concatenate numerical and categorical data\n",
    "full_data = np.hstack((data, categorical_data))\n",
    "\n",
    "# Specify the number of clusters (k)\n",
    "n_clusters = 3\n",
    "\n",
    "# Initialize KModes with the appropriate parameters\n",
    "km = KModes(n_clusters=n_clusters, init='Huang', n_init=5, verbose=1)\n",
    "\n",
    "# Fit the model to the data\n",
    "clusters = km.fit_predict(full_data)\n",
    "\n",
    "# Print the cluster centroids and labels\n",
    "print(\"Cluster Centroids:\")\n",
    "print(km.cluster_centroids_)\n",
    "print(\"\\nCluster Labels:\")\n",
    "print(clusters)"
   ]
  },
  {
   "cell_type": "markdown",
   "id": "ff29bb5e-a6f6-42d5-8e3d-b8fea2a1f206",
   "metadata": {},
   "source": [
    "## KModes-IRIS \n",
    "\n",
    "The Iris dataset can be converted into a categorical dataset by binning the numerical features. For example, you can bin the sepal length, sepal width, petal length, and petal width into categories such as 'Short', 'Medium', 'Long'.\n",
    "\n",
    "**Huang Initialization (KModes):**\n",
    "\n",
    "    Aims to select initial centroids that are diverse and representative of the categorical data.\n",
    "\n",
    "    Approach:\n",
    "        Selects the first centroid randomly from the data points.\n",
    "        Subsequent centroids are chosen based on a probability proportional to the minimum dissimilarity to the existing centroids.\n",
    "        Favors centroids that are dissimilar to the already chosen centroids, aiming for diversity in centroid selection.\n",
    "\n",
    "**Cluster Evaluation**\n",
    "\n",
    "The ARI measures the similarity between the true labels and the cluster assignments, with values close to 1 indicating a perfect match and values close to 0 indicating random labeling. It is a useful metric for evaluating the quality of clustering when ground truth labels are available."
   ]
  },
  {
   "cell_type": "code",
   "execution_count": 5,
   "id": "d3c0a0fe-a89a-4f49-adb9-98054bf6dee6",
   "metadata": {},
   "outputs": [
    {
     "name": "stdout",
     "output_type": "stream",
     "text": [
      "  sepal length (cm) sepal width (cm) petal length (cm) petal width (cm)\n",
      "0             Short           Medium             Short           Narrow\n",
      "1             Short           Medium             Short           Narrow\n",
      "2             Short           Medium             Short           Narrow\n",
      "3             Short           Medium             Short           Narrow\n",
      "4             Short           Medium             Short           Narrow\n",
      "Init: initializing centroids\n",
      "Init: initializing clusters\n",
      "Starting iterations...\n",
      "Run 1, iteration: 1/100, moves: 19, cost: 107.0\n",
      "Init: initializing centroids\n",
      "Init: initializing clusters\n",
      "Starting iterations...\n",
      "Run 2, iteration: 1/100, moves: 39, cost: 96.0\n",
      "Run 2, iteration: 2/100, moves: 4, cost: 96.0\n",
      "Init: initializing centroids\n",
      "Init: initializing clusters\n",
      "Starting iterations...\n",
      "Run 3, iteration: 1/100, moves: 21, cost: 174.0\n",
      "Run 3, iteration: 2/100, moves: 3, cost: 174.0\n",
      "Init: initializing centroids\n",
      "Init: initializing clusters\n",
      "Starting iterations...\n",
      "Run 4, iteration: 1/100, moves: 18, cost: 176.0\n",
      "Init: initializing centroids\n",
      "Init: initializing clusters\n",
      "Starting iterations...\n",
      "Run 5, iteration: 1/100, moves: 41, cost: 96.0\n",
      "Run 5, iteration: 2/100, moves: 3, cost: 96.0\n",
      "Best run was number 2\n",
      "Cluster Centroids:\n",
      "  sepal length (cm) sepal width (cm) petal length (cm) petal width (cm)\n",
      "0            Medium           Medium              Long             Wide\n",
      "1             Short           Medium             Short           Narrow\n",
      "2            Medium           Narrow            Medium           Medium\n",
      "Adjusted Rand Index (ARI): 0.8159946526897541\n"
     ]
    }
   ],
   "source": [
    "# Load Iris dataset\n",
    "iris = datasets.load_iris()\n",
    "X = pd.DataFrame(iris.data, columns=iris.feature_names)\n",
    "y = iris.target\n",
    "\n",
    "# Binning numerical features\n",
    "X['sepal length (cm)'] = pd.cut(X['sepal length (cm)'], bins=3, labels=['Short', 'Medium', 'Long'])\n",
    "X['sepal width (cm)'] = pd.cut(X['sepal width (cm)'], bins=3, labels=['Narrow', 'Medium', 'Wide'])\n",
    "X['petal length (cm)'] = pd.cut(X['petal length (cm)'], bins=3, labels=['Short', 'Medium', 'Long'])\n",
    "X['petal width (cm)'] = pd.cut(X['petal width (cm)'], bins=3, labels=['Narrow', 'Medium', 'Wide'])\n",
    "\n",
    "# Display the modified dataset\n",
    "print(X.head())\n",
    "\n",
    "# Initialize and fit KModes\n",
    "km = KModes(n_clusters=3, init='Huang', n_init=5, verbose=1)\n",
    "clusters = km.fit_predict(X)\n",
    "\n",
    "# Print cluster centroids\n",
    "print(\"Cluster Centroids:\")\n",
    "print(pd.DataFrame(km.cluster_centroids_, columns=X.columns))\n",
    "\n",
    "# Evaluate clustering performance using ARI\n",
    "ari = adjusted_rand_score(y, clusters)\n",
    "print(\"Adjusted Rand Index (ARI):\", ari)"
   ]
  }
 ],
 "metadata": {
  "kernelspec": {
   "display_name": "Python 3 (ipykernel)",
   "language": "python",
   "name": "python3"
  },
  "language_info": {
   "codemirror_mode": {
    "name": "ipython",
    "version": 3
   },
   "file_extension": ".py",
   "mimetype": "text/x-python",
   "name": "python",
   "nbconvert_exporter": "python",
   "pygments_lexer": "ipython3",
   "version": "3.11.6"
  }
 },
 "nbformat": 4,
 "nbformat_minor": 5
}
