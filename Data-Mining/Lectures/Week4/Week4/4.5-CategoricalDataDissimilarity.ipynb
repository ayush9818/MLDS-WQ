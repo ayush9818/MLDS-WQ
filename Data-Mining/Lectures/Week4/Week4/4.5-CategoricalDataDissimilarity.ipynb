{
 "cells": [
  {
   "cell_type": "code",
   "execution_count": 5,
   "id": "374a9068-e087-4452-a141-e5f908c0c2a3",
   "metadata": {},
   "outputs": [],
   "source": [
    "import numpy as np\n",
    "from sklearn.metrics import pairwise_distances\n",
    "\n",
    "# Simple Matching Dissimilarity\n",
    "def simple_matching_dissimilarity(x, y):\n",
    "    return np.mean(x != y)\n",
    "\n",
    "# Jaccard Dissimilarity\n",
    "def jaccard_dissimilarity(x, y):\n",
    "    intersection = np.sum(np.logical_and(x, y))\n",
    "    union = np.sum(np.logical_or(x, y))\n",
    "    return 1 - (intersection / union)\n",
    "\n",
    "# Hamming Dissimilarity\n",
    "def hamming_dissimilarity(x, y):\n",
    "    return np.mean(x != y)\n",
    "\n",
    "# Gower's Dissimilarity\n",
    "def gowers_dissimilarity(x, y, categorical_weight=1):\n",
    "    categorical_dissimilarity = simple_matching_dissimilarity(x, y)\n",
    "    numerical_dissimilarity = pairwise_distances(np.array([x, y]), metric='euclidean')[0, 1]\n",
    "    return (categorical_weight * categorical_dissimilarity + numerical_dissimilarity) / len(x)"
   ]
  },
  {
   "cell_type": "code",
   "execution_count": 6,
   "id": "27a27fe3-5ea1-4878-9ba8-93e9cde5c2aa",
   "metadata": {},
   "outputs": [
    {
     "name": "stdout",
     "output_type": "stream",
     "text": [
      "Example Input:\n",
      "x: [ True False  True  True]\n",
      "y: [False  True  True  True]\n",
      "\n",
      "1. Simple Matching Dissimilarity: 0.5\n",
      "2. Jaccard Dissimilarity: 0.5\n",
      "3. Hamming Dissimilarity: 0.5\n",
      "4. Overlap Dissimilarity: 0.5\n",
      "5. Gower's Dissimilarity: 0.4785533905932738\n"
     ]
    }
   ],
   "source": [
    "# Example usage\n",
    "x = np.array([1, 0, 1, 1], dtype=bool)\n",
    "y = np.array([0, 1, 1, 1], dtype=bool)\n",
    "\n",
    "print(\"Example Input:\")\n",
    "print(\"x:\", x)\n",
    "print(\"y:\", y)\n",
    "print()\n",
    "\n",
    "print(\"1. Simple Matching Dissimilarity:\", simple_matching_dissimilarity(x, y))\n",
    "print(\"2. Jaccard Dissimilarity:\", jaccard_dissimilarity(x, y))\n",
    "print(\"3. Hamming Dissimilarity:\", hamming_dissimilarity(x, y))\n",
    "print(\"4. Gower's Dissimilarity:\", gowers_dissimilarity(x, y))"
   ]
  }
 ],
 "metadata": {
  "kernelspec": {
   "display_name": "Python 3 (ipykernel)",
   "language": "python",
   "name": "python3"
  },
  "language_info": {
   "codemirror_mode": {
    "name": "ipython",
    "version": 3
   },
   "file_extension": ".py",
   "mimetype": "text/x-python",
   "name": "python",
   "nbconvert_exporter": "python",
   "pygments_lexer": "ipython3",
   "version": "3.11.6"
  }
 },
 "nbformat": 4,
 "nbformat_minor": 5
}
