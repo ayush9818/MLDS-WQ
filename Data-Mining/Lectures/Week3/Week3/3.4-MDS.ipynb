{
 "cells": [
  {
   "cell_type": "markdown",
   "id": "151adfad-e394-4d7e-a2c7-3c8ef55cdac2",
   "metadata": {},
   "source": [
    "# Multidimensional Scaling"
   ]
  },
  {
   "cell_type": "code",
   "execution_count": 1,
   "id": "c071987d-499b-4647-880f-2044a0289398",
   "metadata": {},
   "outputs": [],
   "source": [
    "import numpy as np\n",
    "import matplotlib.pyplot as plt\n",
    "\n",
    "def create_dissimilarity_matrix(n):\n",
    "    # Create a random dissimilarity matrix (symmetric and zero diagonal)\n",
    "    dissimilarity_matrix = np.random.rand(n, n)\n",
    "    dissimilarity_matrix = (dissimilarity_matrix + dissimilarity_matrix.T) / 2  # Make it symmetric\n",
    "    np.fill_diagonal(dissimilarity_matrix, 0)  # Zero diagonal\n",
    "    return dissimilarity_matrix\n",
    "\n",
    "def double_centering(dissimilarity_matrix):\n",
    "    n = dissimilarity_matrix.shape[0]\n",
    "    \n",
    "    # Row centering: Subtract row means\n",
    "    row_means = np.mean(dissimilarity_matrix, axis=1, keepdims=True)\n",
    "    dissimilarity_matrix -= row_means\n",
    "\n",
    "    # Column centering: Subtract column means\n",
    "    col_means = np.mean(dissimilarity_matrix, axis=0, keepdims=True)\n",
    "    dissimilarity_matrix -= col_means\n",
    "\n",
    "    # Scale by -1/2\n",
    "    double_centered_matrix = -0.5 * dissimilarity_matrix\n",
    "\n",
    "    return double_centered_matrix\n",
    "\n",
    "def classical_mds(double_centered_matrix, num_dimensions):\n",
    "    # Eigenvalue decomposition\n",
    "    eigenvalues, eigenvectors = np.linalg.eigh(double_centered_matrix)\n",
    "\n",
    "    # Selecting the top num_dimensions eigenvectors\n",
    "    top_indices = np.argsort(eigenvalues)[::-1][:num_dimensions]\n",
    "    top_eigenvalues = eigenvalues[top_indices]\n",
    "    top_eigenvectors = eigenvectors[:, top_indices]\n",
    "\n",
    "    print(\"\\nTop Eigenvalues:\")\n",
    "    print(top_eigenvalues)\n",
    "    \n",
    "    print(\"\\nTop Eigenvectors:\")\n",
    "    print(top_eigenvectors)\n",
    "    \n",
    "    # Computing coordinates in low-dimensional space\n",
    "    coordinates = np.dot(top_eigenvectors, np.diag(np.sqrt(top_eigenvalues)))\n",
    "    print(\"\\nCoordinates:\")\n",
    "    print(coordinates)\n",
    "    \n",
    "    return coordinates\n",
    "\n",
    "def visualize_result(coordinates):\n",
    "    # Scatter plot of the low-dimensional coordinates\n",
    "    plt.scatter(coordinates[:, 0], coordinates[:, 1])\n",
    "    plt.title('MDS: Visualization of Low-Dimensional Coordinates')\n",
    "    plt.xlabel('Dimension 1')\n",
    "    plt.ylabel('Dimension 2')\n",
    "    plt.show()"
   ]
  },
  {
   "cell_type": "code",
   "execution_count": 2,
   "id": "71d8ec4a-5f4d-4b57-8bc5-9e16394eb8de",
   "metadata": {
    "scrolled": true
   },
   "outputs": [
    {
     "name": "stdout",
     "output_type": "stream",
     "text": [
      "Original Dissimilarity Matrix:\n",
      "[[0.         0.55335441 0.37628922 0.3910315  0.38393577]\n",
      " [0.55335441 0.         0.918043   0.45267863 0.42378322]\n",
      " [0.37628922 0.918043   0.         0.36854777 0.23698481]\n",
      " [0.3910315  0.45267863 0.36854777 0.         0.32879549]\n",
      " [0.38393577 0.42378322 0.23698481 0.32879549 0.        ]]\n",
      "\n",
      "Double-Centered Matrix:\n",
      "[[ 0.16358443 -0.04876794 -0.00503479 -0.04828707 -0.06149462]\n",
      " [-0.04876794  0.2922341  -0.21158685 -0.0147858  -0.01709351]\n",
      " [-0.00503479 -0.21158685  0.20263521 -0.01751982  0.03150625]\n",
      " [-0.04828707 -0.0147858  -0.01751982  0.13087292 -0.05028023]\n",
      " [-0.06149462 -0.01709351  0.03150625 -0.05028023  0.0973621 ]]\n",
      "\n",
      "Eigenvalues:\n",
      "[0.46975043 0.20959227]\n",
      "\n",
      "Eigenvectors:\n",
      "[[ 0.10177684  0.86397831]\n",
      " [-0.77326889 -0.05932711]\n",
      " [ 0.6209522  -0.17366058]\n",
      " [-0.02391302 -0.21354144]\n",
      " [ 0.07445287 -0.41744918]]\n",
      "\n",
      "Coordinates:\n",
      "[[ 0.06975616  0.39554005]\n",
      " [-0.52998567 -0.02716069]\n",
      " [ 0.42559034 -0.07950398]\n",
      " [-0.01638958 -0.09776194]\n",
      " [ 0.05102876 -0.19111345]]\n"
     ]
    },
    {
     "data": {
      "image/png": "[encoded data removed]",
      "text/plain": [
       "<Figure size 640x480 with 1 Axes>"
      ]
     },
     "metadata": {},
     "output_type": "display_data"
    }
   ],
   "source": [
    "# Example usage\n",
    "np.random.seed(42)  # for reproducibility\n",
    "num_data_points = 5\n",
    "num_dimensions = 2\n",
    "\n",
    "# Step 1: Create a random dissimilarity matrix\n",
    "dissimilarity_matrix = create_dissimilarity_matrix(num_data_points)\n",
    "print(\"Original Dissimilarity Matrix:\")\n",
    "print(dissimilarity_matrix)\n",
    "\n",
    "# Step 2: Double centering\n",
    "double_centered_matrix = double_centering(dissimilarity_matrix)\n",
    "print(\"\\nDouble-Centered Matrix:\")\n",
    "print(double_centered_matrix)\n",
    "\n",
    "# Step 3: Perform MDS\n",
    "coordinates = classical_mds(double_centered_matrix, num_dimensions)\n",
    "\n",
    "# Step 4: Visualize the result\n",
    "visualize_result(coordinates)"
   ]
  },
  {
   "cell_type": "markdown",
   "id": "70228e5f-0824-4cea-aba1-0b46fea77fb5",
   "metadata": {},
   "source": [
    "## MDS - IRIS"
   ]
  },
  {
   "cell_type": "code",
   "execution_count": null,
   "id": "b35e0104-8335-4125-8652-ae4c819b6245",
   "metadata": {},
   "outputs": [],
   "source": [
    "import matplotlib.pyplot as plt\n",
    "from sklearn import datasets\n",
    "from sklearn.manifold import MDS\n",
    "\n",
    "# Load Iris dataset\n",
    "iris = datasets.load_iris()\n",
    "X = iris.data\n",
    "y = iris.target\n",
    "\n",
    "# Apply MDS\n",
    "mds = MDS(n_components=2, max_iter=300, random_state=42, verbose=1)  # Set verbose to 1 for intermediate output\n",
    "X_mds = mds.fit_transform(X)\n",
    "\n",
    "# Print intermediate values\n",
    "print(\"Stress: \", mds.stress_)\n",
    "print(\"Number of iterations: \", mds.n_iter_)\n",
    "\n",
    "# Plot the 2D representation\n",
    "plt.figure(figsize=(8, 6))\n",
    "scatter = plt.scatter(X_mds[:, 0], X_mds[:, 1], c=y, cmap='viridis', edgecolor='k')\n",
    "plt.title('MDS Visualization of Iris Dataset')\n",
    "plt.xlabel('MDS Component 1')\n",
    "plt.ylabel('MDS Component 2')\n",
    "plt.legend(*scatter.legend_elements(), title='Classes')\n",
    "plt.show()\n"
   ]
  }
 ],
 "metadata": {
  "kernelspec": {
   "display_name": "Python 3 (ipykernel)",
   "language": "python",
   "name": "python3"
  },
  "language_info": {
   "codemirror_mode": {
    "name": "ipython",
    "version": 3
   },
   "file_extension": ".py",
   "mimetype": "text/x-python",
   "name": "python",
   "nbconvert_exporter": "python",
   "pygments_lexer": "ipython3",
   "version": "3.11.6"
  }
 },
 "nbformat": 4,
 "nbformat_minor": 5
}
