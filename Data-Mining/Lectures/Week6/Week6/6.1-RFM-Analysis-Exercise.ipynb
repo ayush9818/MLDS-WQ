{
 "cells": [
  {
   "cell_type": "markdown",
   "metadata": {},
   "source": [
    "# Recency Frequency Monetary (RFM) Analysis"
   ]
  },
  {
   "cell_type": "code",
   "execution_count": null,
   "metadata": {},
   "outputs": [],
   "source": [
    "import math\n",
    "import numpy as np\n",
    "import pandas as pd\n",
    "import datetime as dt\n",
    "import seaborn as sns\n",
    "from scipy.stats import norm\n",
    "from matplotlib import pyplot as plt\n",
    "from sklearn.preprocessing import MinMaxScaler,StandardScaler\n",
    "from sklearn.cluster import KMeans\n",
    "from sklearn.metrics import silhouette_score\n",
    "import missingno as msno\n",
    "\n",
    "import warnings\n",
    "warnings.filterwarnings('ignore')"
   ]
  },
  {
   "cell_type": "markdown",
   "metadata": {},
   "source": [
    "### Dataset\n",
    "\n",
    "This is a transactional data set which contains all the transactions occurring between 01/12/2010 and 09/12/2011 for a UK-based and registered non-store online retail.\n",
    "\t\n",
    "https://archive.ics.uci.edu/ml/datasets/online+retail\n",
    "\n",
    "**Attribute Information**:\n",
    "\n",
    "    InvoiceNo: Invoice number. Nominal, a 6-digit integral number uniquely assigned to each transaction. If this code starts with letter 'c', it indicates a cancellation.\n",
    "    StockCode: Product (item) code. Nominal, a 5-digit integral number uniquely assigned to each distinct product.\n",
    "    Description: Product (item) name. Nominal.\n",
    "    Quantity: The quantities of each product (item) per transaction. Numeric.\n",
    "    InvoiceDate: Invice Date and time. Numeric, the day and time when each transaction was generated.\n",
    "    UnitPrice: Unit price. Numeric, Product price per unit in sterling.\n",
    "    CustomerID: Customer number. Nominal, a 5-digit integral number uniquely assigned to each customer.\n",
    "    Country: Country name. Nominal, the name of the country where each customer resides. "
   ]
  },
  {
   "cell_type": "code",
   "execution_count": null,
   "metadata": {},
   "outputs": [],
   "source": [
    "#df = pd.read_excel('http://archive.ics.uci.edu/ml/machine-learning-databases/00352/Online%20Retail.xlsx')\n",
    "df = pd.read_excel('Online Retail.xlsx')\n",
    "df.head()"
   ]
  },
  {
   "cell_type": "code",
   "execution_count": null,
   "metadata": {
    "scrolled": true
   },
   "outputs": [],
   "source": [
    "df.dtypes"
   ]
  },
  {
   "cell_type": "markdown",
   "metadata": {},
   "source": [
    "## Data Cleanup"
   ]
  },
  {
   "cell_type": "code",
   "execution_count": null,
   "metadata": {},
   "outputs": [],
   "source": [
    "df.describe()"
   ]
  },
  {
   "cell_type": "code",
   "execution_count": null,
   "metadata": {},
   "outputs": [],
   "source": [
    "#plot missing data\n",
    "msno.matrix(df)\n",
    "plt.show(plt.figure(figsize=(5, 3)))"
   ]
  },
  {
   "cell_type": "code",
   "execution_count": null,
   "metadata": {},
   "outputs": [],
   "source": [
    "# get the missing data"
   ]
  },
  {
   "cell_type": "code",
   "execution_count": null,
   "metadata": {},
   "outputs": [],
   "source": [
    "# drop Description column"
   ]
  },
  {
   "cell_type": "code",
   "execution_count": null,
   "metadata": {},
   "outputs": [],
   "source": [
    "# drop rows with missing InvoiceNo\n",
    "# drop rows with missing InvoiceDate\n",
    "# drop rows with missing CustomerId\n",
    "df.shape[0]"
   ]
  },
  {
   "cell_type": "code",
   "execution_count": null,
   "metadata": {},
   "outputs": [],
   "source": [
    "#fix datatypes\n",
    "df['CustomerID'] = df['CustomerID'].astype(str)\n",
    "df['InvoiceNo'] = df['InvoiceNo'].astype(str)\n",
    "# Convert 'InvoiceDate' column to datetime\n",
    "df['InvoiceDate'] = pd.to_datetime(df['InvoiceDate'])"
   ]
  },
  {
   "cell_type": "code",
   "execution_count": null,
   "metadata": {},
   "outputs": [],
   "source": [
    "#remove the credit transactions (those with invoice numbers containing C).\n",
    "df = df[~df['InvoiceNo'].str.contains('C')]\n",
    "df.shape[0]"
   ]
  },
  {
   "cell_type": "code",
   "execution_count": null,
   "metadata": {},
   "outputs": [],
   "source": [
    "df = df[df['UnitPrice'] > 0]\n",
    "df.shape[0]"
   ]
  },
  {
   "cell_type": "code",
   "execution_count": null,
   "metadata": {
    "scrolled": true
   },
   "outputs": [],
   "source": [
    "df.describe()"
   ]
  },
  {
   "cell_type": "markdown",
   "metadata": {},
   "source": [
    "## Exploratory Data Analysis"
   ]
  },
  {
   "cell_type": "code",
   "execution_count": null,
   "metadata": {},
   "outputs": [],
   "source": [
    "##countries"
   ]
  },
  {
   "cell_type": "code",
   "execution_count": null,
   "metadata": {},
   "outputs": [],
   "source": [
    "#Number of customers"
   ]
  },
  {
   "cell_type": "code",
   "execution_count": null,
   "metadata": {},
   "outputs": [],
   "source": [
    "#Number of stockcodes"
   ]
  },
  {
   "cell_type": "code",
   "execution_count": null,
   "metadata": {},
   "outputs": [],
   "source": [
    "#transcations by country"
   ]
  },
  {
   "cell_type": "code",
   "execution_count": null,
   "metadata": {},
   "outputs": [],
   "source": [
    "# TotalPrice column\n",
    "df['TotalPrice'] = df['Quantity'] * df['UnitPrice']\n",
    "df.sort_values(by='TotalPrice', ascending=False).head()"
   ]
  },
  {
   "cell_type": "code",
   "execution_count": null,
   "metadata": {},
   "outputs": [],
   "source": [
    "# Visualize the distribution of TotalPrice"
   ]
  },
  {
   "cell_type": "markdown",
   "metadata": {},
   "source": [
    "## RFM Analysis\n",
    "Calculation of RFM metrics (recency, frequency, and monetary)\n",
    "    \n",
    "    recency = date of analysis - purchase date of the relevant customer\n",
    "    frequency = customer's total number of purchases\n",
    "    monetary = total monetary value as a result of the customer's total purchases\n",
    "    \n",
    "We will assume the date of analysis was 1 days after the max(date) in the dataset"
   ]
  },
  {
   "cell_type": "code",
   "execution_count": null,
   "metadata": {},
   "outputs": [],
   "source": [
    "# get the last invoice date in the dataset\n",
    "max_date = df['InvoiceDate'].max()\n",
    "max_date"
   ]
  },
  {
   "cell_type": "code",
   "execution_count": null,
   "metadata": {},
   "outputs": [],
   "source": [
    "# adding a day to the calculated max date as date of analysis\n",
    "snapshot_date = max_date + dt.timedelta(days = 1)\n",
    "snapshot_date"
   ]
  },
  {
   "cell_type": "code",
   "execution_count": null,
   "metadata": {},
   "outputs": [],
   "source": [
    "rfm = df.groupby('CustomerID').agg({\n",
    "    'InvoiceDate': lambda x: (snapshot_date - x.max()).days, # Recency\n",
    "    'InvoiceNo': 'count',                                    # Frequency\n",
    "    'TotalPrice': 'sum' ,                                    # Monetary\n",
    "})\n",
    "\n",
    "rfm.rename(columns={'InvoiceDate': 'Recency', 'InvoiceNo': 'Frequency', 'TotalPrice': 'Monetary'}, inplace=True)\n",
    "\n",
    "# Display the RFM table\n",
    "rfm"
   ]
  },
  {
   "cell_type": "markdown",
   "metadata": {},
   "source": [
    "### Segmenting customers based on RFM scores\n",
    "\n",
    "Create R, F, M scores from 1 (least) to 4 (higest)\n",
    "\n",
    "<code>r_quartiles:</code> Generate labels in reverse order from 4 to 1. This means that the quartiles will be labeled as 4 for the first quartile (highest recency), 3 for the second quartile, 2 for the third quartile, and 1 for the fourth quartile (lowest recency). This reverse ordering might be chosen for interpretability, where higher values indicate better or more recent behavior."
   ]
  },
  {
   "cell_type": "code",
   "execution_count": null,
   "metadata": {},
   "outputs": [],
   "source": [
    "# Define quartiles for Recency, Frequency, and Monetary\n",
    "r_quartiles = pd.qcut(rfm['Recency'], q=4, labels=range(4, 0, -1))\n",
    "f_quartiles = pd.qcut(rfm['Frequency'], q=4, labels=range(1, 5))\n",
    "m_quartiles = pd.qcut(rfm['Monetary'], q=4, labels=range(1, 5))\n",
    "\n",
    "rfm = rfm.assign(R=r_quartiles, F=f_quartiles, M=m_quartiles)\n",
    "\n",
    "# Calculate RFM score\n",
    "rfm['RFM_Score'] = rfm[['R', 'F', 'M']].sum(axis=1)\n",
    "#rfm[\"RFM_Score\"] = 0.6*rfm['F'] + 0.2*rfm['F'] + 0.2*rfm['M'] #alternative weighted score\n",
    "\n",
    "# Define RFM segments\n",
    "rfm['RFM_Segment'] = rfm[['R', 'F', 'M']].apply(lambda x: ''.join(map(str, x)), axis=1)\n",
    "\n",
    "# Display the RFM table with segments\n",
    "rfm"
   ]
  },
  {
   "cell_type": "code",
   "execution_count": null,
   "metadata": {},
   "outputs": [],
   "source": [
    "#recency\n",
    "rfm.Recency.describe()"
   ]
  },
  {
   "cell_type": "code",
   "execution_count": null,
   "metadata": {},
   "outputs": [],
   "source": [
    "#Recency plot\n",
    "x = rfm.Recency\n",
    "mu = np.mean(rfm.Recency)\n",
    "sigma = math.sqrt(np.var(rfm.Recency))\n",
    "n, bins, patches = plt.hist(x, 400, facecolor='green', alpha=0.75)\n",
    "plt.xlabel('Recency in days')\n",
    "plt.ylabel('Number of transactions')\n",
    "plt.title(r'Histogram of sales recency')\n",
    "plt.grid(True)"
   ]
  },
  {
   "cell_type": "code",
   "execution_count": null,
   "metadata": {},
   "outputs": [],
   "source": [
    "rfm.groupby(\"RFM_Segment\").count()"
   ]
  },
  {
   "cell_type": "code",
   "execution_count": null,
   "metadata": {},
   "outputs": [],
   "source": [
    "#humanization\n",
    "# rfm.loc[(rfm['RFM_Score'] <= 4), 'Segment'] = 'Silver'\n",
    "# rfm.loc[(rfm['RFM_Score'] > 4) & (rfm['RFM_Score'] <= 7), 'Segment'] = 'Gold'\n",
    "# rfm.loc[(rfm['RFM_Score'] > 7) & (rfm['RFM_Score'] <= 10), 'Segment'] = 'Platinum'\n",
    "# rfm.loc[(rfm['RFM_Score'] > 10), 'Segment'] = 'Diamond'\n",
    "\n",
    "rfm.head()"
   ]
  },
  {
   "cell_type": "code",
   "execution_count": null,
   "metadata": {},
   "outputs": [],
   "source": [
    "# Calculate correlation matrix\n",
    "rfm_corr = rfm[['R' ,'F' ,'M']].corr()\n",
    "\n",
    "# Create a heatmap\n",
    "plt.figure(figsize=(5, 3))\n",
    "sns.heatmap(rfm_corr, annot=True, cmap='coolwarm', fmt=\".2f\")\n",
    "plt.title('Correlation Heatmap')\n",
    "plt.show()"
   ]
  },
  {
   "cell_type": "code",
   "execution_count": null,
   "metadata": {},
   "outputs": [],
   "source": [
    "sns.pairplot(rfm[['Recency' ,'Frequency' ,'Monetary','Segment']], hue=\"Segment\")\n",
    "plt.show()"
   ]
  },
  {
   "cell_type": "code",
   "execution_count": null,
   "metadata": {},
   "outputs": [],
   "source": [
    "#group by topic and plot rows in the descending order\n",
    "rfm.groupby('Segment').size().sort_values(ascending=True)\\\n",
    "    .plot(title=\"Number of Customers\", kind='barh',figsize=(5,2))\n",
    "plt.show()"
   ]
  },
  {
   "cell_type": "markdown",
   "metadata": {},
   "source": [
    "## Sample Marketing Strategy\n",
    "\n",
    "**Gold Customers:**\n",
    "    \n",
    "    - Exclusive Access: Early access to limited-edition products or special collections before they are available to other customers.\n",
    "    - VIP Discounts: Higher discounts or special promotional codes applicable to select products or categories.\n",
    "    - Dedicated Support: Assign a dedicated customer support representative or hotline to address their inquiries and resolve issues promptly.\n",
    "\n",
    "**Silver Customers:**\n",
    "    \n",
    "    - Tier Upgrade Incentives: Incentives such as a one-time discount or bonus points for reaching the Gold tier.\n",
    "    - Tier-specific Offers: Targeted offers on products complementary to their past purchases or interests.\n",
    "    - Early Sale Access: Early access to seasonal sales or clearance events to encourage repeat purchases.\n",
    "\n",
    "**Platinum Customers:**\n",
    "    \n",
    "    - Personal Shopper Service: Introduce a personalized shopping service with recommendations and assistance from a dedicated personal shopper.\n",
    "    - Exclusive Events: Exclusive VIP events, such as product launches or fashion shows, with complimentary refreshments and VIP seating.\n",
    "    - Customized Products: Option to customize products with monograms, engravings, or bespoke designs tailored to their preferences.\n",
    "\n",
    "**Diamond Customers:**\n",
    "    \n",
    "    - Luxury Gifts: Surprise with luxury gifts or limited-edition items as a token of appreciation for their loyalty.\n",
    "    - Private Consultations: Arrange private consultations with designers or industry experts to discuss bespoke or high-end purchases.\n",
    "    - Elite Benefits: Elite benefits such as complimentary expedited shipping, priority access to customer support,"
   ]
  },
  {
   "cell_type": "markdown",
   "metadata": {},
   "source": [
    "## Cluster Analysis \n",
    "\n",
    "Behavioral clustering involves grouping customers based on similarities in their behavior, preferences, or characteristics. It helps identify distinct customer segments that may not be evident from RFM analysis alone. \n",
    "\n",
    "Combining clustering and RFM analysis provides complementary insights into customer behavior. Clustering helps identify distinct customer segments, while RFM analysis identifies high-value customers within those segments. After clustering customers into segments, RFM analysis can be applied within each segment to identify differences in recency, frequency, and monetary value. This allows for segment-specific marketing strategies tailored to the unique characteristics of each cluster."
   ]
  },
  {
   "cell_type": "code",
   "execution_count": null,
   "metadata": {},
   "outputs": [],
   "source": [
    "# Cluster the data based on RFM categories. Could we use a more elaborate clustering scheme ?\n"
   ]
  },
  {
   "cell_type": "code",
   "execution_count": null,
   "metadata": {},
   "outputs": [],
   "source": [
    "#k=4 gets better clusters, however take inputs from the business\n"
   ]
  },
  {
   "cell_type": "code",
   "execution_count": null,
   "metadata": {},
   "outputs": [],
   "source": [
    "#group by topic and plot rows in the descending order\n",
    "rfm.groupby('Cluster').size().sort_values(ascending=True)\\\n",
    "    .plot(title=\"Number of Customers\", kind='barh',figsize=(5,2))\n",
    "plt.show()"
   ]
  }
 ],
 "metadata": {
  "kernelspec": {
   "display_name": "Python 3 (ipykernel)",
   "language": "python",
   "name": "python3"
  },
  "language_info": {
   "codemirror_mode": {
    "name": "ipython",
    "version": 3
   },
   "file_extension": ".py",
   "mimetype": "text/x-python",
   "name": "python",
   "nbconvert_exporter": "python",
   "pygments_lexer": "ipython3",
   "version": "3.11.6"
  }
 },
 "nbformat": 4,
 "nbformat_minor": 4
}
